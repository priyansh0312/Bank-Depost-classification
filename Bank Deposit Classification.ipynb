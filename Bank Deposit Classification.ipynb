{
 "cells": [
  {
   "cell_type": "markdown",
   "id": "840c6923",
   "metadata": {},
   "source": [
    "# Importing Libraries and Dataset"
   ]
  },
  {
   "cell_type": "code",
   "execution_count": 1,
   "id": "60971aa1",
   "metadata": {
    "colab": {},
    "colab_type": "code",
    "id": "wfFEXZC0WS-V"
   },
   "outputs": [],
   "source": [
    "# Visualisation and dataframes\n",
    "import numpy as np\n",
    "import pandas as pd\n",
    "import seaborn as sns\n",
    "import matplotlib.pyplot as plt\n",
    "%matplotlib inline\n",
    "\n",
    "\n",
    "# train-test-split, scaling, encoding \n",
    "from sklearn.model_selection import train_test_split\n",
    "\n",
    "\n",
    "# Classification Models\n",
    "from sklearn.linear_model import LogisticRegression\n",
    "from sklearn.svm import SVC\n",
    "from sklearn.ensemble import RandomForestClassifier\n",
    "\n",
    "\n",
    "# metrics\n",
    "from sklearn import metrics\n",
    "from sklearn.metrics import (accuracy_score,\n",
    "                            recall_score,\n",
    "                            precision_score, \n",
    "                            f1_score,\n",
    "                            precision_recall_curve,\n",
    "                            precision_recall_fscore_support, \n",
    "                            classification_report, \n",
    "                            confusion_matrix,\n",
    "                            roc_auc_score,\n",
    "                            roc_curve,\n",
    "                            plot_confusion_matrix)\n",
    "\n",
    "\n",
    "# Warnings\n",
    "import warnings\n",
    "\n",
    "warnings.filterwarnings('ignore')\n",
    "pd.pandas.set_option('display.max_colwidth',None)\n",
    "pd.pandas.set_option('display.max_columns',None)"
   ]
  },
  {
   "cell_type": "code",
   "execution_count": 2,
   "id": "7d43cccd",
   "metadata": {},
   "outputs": [],
   "source": [
    "df = pd.read_csv('bank-additional-full.csv', sep=';')"
   ]
  },
  {
   "cell_type": "code",
   "execution_count": 3,
   "id": "b4b5312c",
   "metadata": {},
   "outputs": [
    {
     "name": "stdout",
     "output_type": "stream",
     "text": [
      "(41188, 21)\n"
     ]
    },
    {
     "data": {
      "text/html": [
       "<div>\n",
       "<style scoped>\n",
       "    .dataframe tbody tr th:only-of-type {\n",
       "        vertical-align: middle;\n",
       "    }\n",
       "\n",
       "    .dataframe tbody tr th {\n",
       "        vertical-align: top;\n",
       "    }\n",
       "\n",
       "    .dataframe thead th {\n",
       "        text-align: right;\n",
       "    }\n",
       "</style>\n",
       "<table border=\"1\" class=\"dataframe\">\n",
       "  <thead>\n",
       "    <tr style=\"text-align: right;\">\n",
       "      <th></th>\n",
       "      <th>age</th>\n",
       "      <th>job</th>\n",
       "      <th>marital</th>\n",
       "      <th>education</th>\n",
       "      <th>default</th>\n",
       "      <th>housing</th>\n",
       "      <th>loan</th>\n",
       "      <th>contact</th>\n",
       "      <th>month</th>\n",
       "      <th>day_of_week</th>\n",
       "      <th>duration</th>\n",
       "      <th>campaign</th>\n",
       "      <th>pdays</th>\n",
       "      <th>previous</th>\n",
       "      <th>poutcome</th>\n",
       "      <th>emp.var.rate</th>\n",
       "      <th>cons.price.idx</th>\n",
       "      <th>cons.conf.idx</th>\n",
       "      <th>euribor3m</th>\n",
       "      <th>nr.employed</th>\n",
       "      <th>y</th>\n",
       "    </tr>\n",
       "  </thead>\n",
       "  <tbody>\n",
       "    <tr>\n",
       "      <th>0</th>\n",
       "      <td>56</td>\n",
       "      <td>housemaid</td>\n",
       "      <td>married</td>\n",
       "      <td>basic.4y</td>\n",
       "      <td>no</td>\n",
       "      <td>no</td>\n",
       "      <td>no</td>\n",
       "      <td>telephone</td>\n",
       "      <td>may</td>\n",
       "      <td>mon</td>\n",
       "      <td>261</td>\n",
       "      <td>1</td>\n",
       "      <td>999</td>\n",
       "      <td>0</td>\n",
       "      <td>nonexistent</td>\n",
       "      <td>1.1</td>\n",
       "      <td>93.994</td>\n",
       "      <td>-36.4</td>\n",
       "      <td>4.857</td>\n",
       "      <td>5191.0</td>\n",
       "      <td>no</td>\n",
       "    </tr>\n",
       "    <tr>\n",
       "      <th>1</th>\n",
       "      <td>57</td>\n",
       "      <td>services</td>\n",
       "      <td>married</td>\n",
       "      <td>high.school</td>\n",
       "      <td>unknown</td>\n",
       "      <td>no</td>\n",
       "      <td>no</td>\n",
       "      <td>telephone</td>\n",
       "      <td>may</td>\n",
       "      <td>mon</td>\n",
       "      <td>149</td>\n",
       "      <td>1</td>\n",
       "      <td>999</td>\n",
       "      <td>0</td>\n",
       "      <td>nonexistent</td>\n",
       "      <td>1.1</td>\n",
       "      <td>93.994</td>\n",
       "      <td>-36.4</td>\n",
       "      <td>4.857</td>\n",
       "      <td>5191.0</td>\n",
       "      <td>no</td>\n",
       "    </tr>\n",
       "    <tr>\n",
       "      <th>2</th>\n",
       "      <td>37</td>\n",
       "      <td>services</td>\n",
       "      <td>married</td>\n",
       "      <td>high.school</td>\n",
       "      <td>no</td>\n",
       "      <td>yes</td>\n",
       "      <td>no</td>\n",
       "      <td>telephone</td>\n",
       "      <td>may</td>\n",
       "      <td>mon</td>\n",
       "      <td>226</td>\n",
       "      <td>1</td>\n",
       "      <td>999</td>\n",
       "      <td>0</td>\n",
       "      <td>nonexistent</td>\n",
       "      <td>1.1</td>\n",
       "      <td>93.994</td>\n",
       "      <td>-36.4</td>\n",
       "      <td>4.857</td>\n",
       "      <td>5191.0</td>\n",
       "      <td>no</td>\n",
       "    </tr>\n",
       "    <tr>\n",
       "      <th>3</th>\n",
       "      <td>40</td>\n",
       "      <td>admin.</td>\n",
       "      <td>married</td>\n",
       "      <td>basic.6y</td>\n",
       "      <td>no</td>\n",
       "      <td>no</td>\n",
       "      <td>no</td>\n",
       "      <td>telephone</td>\n",
       "      <td>may</td>\n",
       "      <td>mon</td>\n",
       "      <td>151</td>\n",
       "      <td>1</td>\n",
       "      <td>999</td>\n",
       "      <td>0</td>\n",
       "      <td>nonexistent</td>\n",
       "      <td>1.1</td>\n",
       "      <td>93.994</td>\n",
       "      <td>-36.4</td>\n",
       "      <td>4.857</td>\n",
       "      <td>5191.0</td>\n",
       "      <td>no</td>\n",
       "    </tr>\n",
       "    <tr>\n",
       "      <th>4</th>\n",
       "      <td>56</td>\n",
       "      <td>services</td>\n",
       "      <td>married</td>\n",
       "      <td>high.school</td>\n",
       "      <td>no</td>\n",
       "      <td>no</td>\n",
       "      <td>yes</td>\n",
       "      <td>telephone</td>\n",
       "      <td>may</td>\n",
       "      <td>mon</td>\n",
       "      <td>307</td>\n",
       "      <td>1</td>\n",
       "      <td>999</td>\n",
       "      <td>0</td>\n",
       "      <td>nonexistent</td>\n",
       "      <td>1.1</td>\n",
       "      <td>93.994</td>\n",
       "      <td>-36.4</td>\n",
       "      <td>4.857</td>\n",
       "      <td>5191.0</td>\n",
       "      <td>no</td>\n",
       "    </tr>\n",
       "  </tbody>\n",
       "</table>\n",
       "</div>"
      ],
      "text/plain": [
       "   age        job  marital    education  default housing loan    contact  \\\n",
       "0   56  housemaid  married     basic.4y       no      no   no  telephone   \n",
       "1   57   services  married  high.school  unknown      no   no  telephone   \n",
       "2   37   services  married  high.school       no     yes   no  telephone   \n",
       "3   40     admin.  married     basic.6y       no      no   no  telephone   \n",
       "4   56   services  married  high.school       no      no  yes  telephone   \n",
       "\n",
       "  month day_of_week  duration  campaign  pdays  previous     poutcome  \\\n",
       "0   may         mon       261         1    999         0  nonexistent   \n",
       "1   may         mon       149         1    999         0  nonexistent   \n",
       "2   may         mon       226         1    999         0  nonexistent   \n",
       "3   may         mon       151         1    999         0  nonexistent   \n",
       "4   may         mon       307         1    999         0  nonexistent   \n",
       "\n",
       "   emp.var.rate  cons.price.idx  cons.conf.idx  euribor3m  nr.employed   y  \n",
       "0           1.1          93.994          -36.4      4.857       5191.0  no  \n",
       "1           1.1          93.994          -36.4      4.857       5191.0  no  \n",
       "2           1.1          93.994          -36.4      4.857       5191.0  no  \n",
       "3           1.1          93.994          -36.4      4.857       5191.0  no  \n",
       "4           1.1          93.994          -36.4      4.857       5191.0  no  "
      ]
     },
     "execution_count": 3,
     "metadata": {},
     "output_type": "execute_result"
    }
   ],
   "source": [
    "print(df.shape)\n",
    "df.head()"
   ]
  },
  {
   "cell_type": "markdown",
   "id": "d61abc49",
   "metadata": {},
   "source": [
    "# EDA"
   ]
  },
  {
   "cell_type": "markdown",
   "id": "3b36f7af",
   "metadata": {},
   "source": [
    "## Missing and duplicate values"
   ]
  },
  {
   "cell_type": "code",
   "execution_count": 4,
   "id": "9ff6fe14",
   "metadata": {},
   "outputs": [
    {
     "data": {
      "text/plain": [
       "0"
      ]
     },
     "execution_count": 4,
     "metadata": {},
     "output_type": "execute_result"
    }
   ],
   "source": [
    "df.isnull().sum().sum()"
   ]
  },
  {
   "cell_type": "code",
   "execution_count": 5,
   "id": "a80fe247",
   "metadata": {},
   "outputs": [
    {
     "name": "stdout",
     "output_type": "stream",
     "text": [
      "(41176, 21)\n"
     ]
    }
   ],
   "source": [
    "df.drop_duplicates(inplace = True)\n",
    "print(df.shape)"
   ]
  },
  {
   "cell_type": "markdown",
   "id": "6852b3e4",
   "metadata": {},
   "source": [
    "- there are no null values\n",
    "- there were **12** duplicate rows that are removed"
   ]
  },
  {
   "cell_type": "markdown",
   "id": "24a3c58b",
   "metadata": {},
   "source": [
    "## Description of Dataset"
   ]
  },
  {
   "cell_type": "code",
   "execution_count": 6,
   "id": "d0b77ce5",
   "metadata": {},
   "outputs": [
    {
     "data": {
      "text/html": [
       "<div>\n",
       "<style scoped>\n",
       "    .dataframe tbody tr th:only-of-type {\n",
       "        vertical-align: middle;\n",
       "    }\n",
       "\n",
       "    .dataframe tbody tr th {\n",
       "        vertical-align: top;\n",
       "    }\n",
       "\n",
       "    .dataframe thead th {\n",
       "        text-align: right;\n",
       "    }\n",
       "</style>\n",
       "<table border=\"1\" class=\"dataframe\">\n",
       "  <thead>\n",
       "    <tr style=\"text-align: right;\">\n",
       "      <th></th>\n",
       "      <th>count</th>\n",
       "      <th>mean</th>\n",
       "      <th>std</th>\n",
       "      <th>min</th>\n",
       "      <th>25%</th>\n",
       "      <th>50%</th>\n",
       "      <th>75%</th>\n",
       "      <th>max</th>\n",
       "    </tr>\n",
       "  </thead>\n",
       "  <tbody>\n",
       "    <tr>\n",
       "      <th>age</th>\n",
       "      <td>41176.0</td>\n",
       "      <td>40.023800</td>\n",
       "      <td>10.420680</td>\n",
       "      <td>17.000</td>\n",
       "      <td>32.000</td>\n",
       "      <td>38.000</td>\n",
       "      <td>47.000</td>\n",
       "      <td>98.000</td>\n",
       "    </tr>\n",
       "    <tr>\n",
       "      <th>duration</th>\n",
       "      <td>41176.0</td>\n",
       "      <td>258.315815</td>\n",
       "      <td>259.305321</td>\n",
       "      <td>0.000</td>\n",
       "      <td>102.000</td>\n",
       "      <td>180.000</td>\n",
       "      <td>319.000</td>\n",
       "      <td>4918.000</td>\n",
       "    </tr>\n",
       "    <tr>\n",
       "      <th>campaign</th>\n",
       "      <td>41176.0</td>\n",
       "      <td>2.567879</td>\n",
       "      <td>2.770318</td>\n",
       "      <td>1.000</td>\n",
       "      <td>1.000</td>\n",
       "      <td>2.000</td>\n",
       "      <td>3.000</td>\n",
       "      <td>56.000</td>\n",
       "    </tr>\n",
       "    <tr>\n",
       "      <th>pdays</th>\n",
       "      <td>41176.0</td>\n",
       "      <td>962.464810</td>\n",
       "      <td>186.937102</td>\n",
       "      <td>0.000</td>\n",
       "      <td>999.000</td>\n",
       "      <td>999.000</td>\n",
       "      <td>999.000</td>\n",
       "      <td>999.000</td>\n",
       "    </tr>\n",
       "    <tr>\n",
       "      <th>previous</th>\n",
       "      <td>41176.0</td>\n",
       "      <td>0.173013</td>\n",
       "      <td>0.494964</td>\n",
       "      <td>0.000</td>\n",
       "      <td>0.000</td>\n",
       "      <td>0.000</td>\n",
       "      <td>0.000</td>\n",
       "      <td>7.000</td>\n",
       "    </tr>\n",
       "    <tr>\n",
       "      <th>emp.var.rate</th>\n",
       "      <td>41176.0</td>\n",
       "      <td>0.081922</td>\n",
       "      <td>1.570883</td>\n",
       "      <td>-3.400</td>\n",
       "      <td>-1.800</td>\n",
       "      <td>1.100</td>\n",
       "      <td>1.400</td>\n",
       "      <td>1.400</td>\n",
       "    </tr>\n",
       "    <tr>\n",
       "      <th>cons.price.idx</th>\n",
       "      <td>41176.0</td>\n",
       "      <td>93.575720</td>\n",
       "      <td>0.578839</td>\n",
       "      <td>92.201</td>\n",
       "      <td>93.075</td>\n",
       "      <td>93.749</td>\n",
       "      <td>93.994</td>\n",
       "      <td>94.767</td>\n",
       "    </tr>\n",
       "    <tr>\n",
       "      <th>cons.conf.idx</th>\n",
       "      <td>41176.0</td>\n",
       "      <td>-40.502863</td>\n",
       "      <td>4.627860</td>\n",
       "      <td>-50.800</td>\n",
       "      <td>-42.700</td>\n",
       "      <td>-41.800</td>\n",
       "      <td>-36.400</td>\n",
       "      <td>-26.900</td>\n",
       "    </tr>\n",
       "    <tr>\n",
       "      <th>euribor3m</th>\n",
       "      <td>41176.0</td>\n",
       "      <td>3.621293</td>\n",
       "      <td>1.734437</td>\n",
       "      <td>0.634</td>\n",
       "      <td>1.344</td>\n",
       "      <td>4.857</td>\n",
       "      <td>4.961</td>\n",
       "      <td>5.045</td>\n",
       "    </tr>\n",
       "    <tr>\n",
       "      <th>nr.employed</th>\n",
       "      <td>41176.0</td>\n",
       "      <td>5167.034870</td>\n",
       "      <td>72.251364</td>\n",
       "      <td>4963.600</td>\n",
       "      <td>5099.100</td>\n",
       "      <td>5191.000</td>\n",
       "      <td>5228.100</td>\n",
       "      <td>5228.100</td>\n",
       "    </tr>\n",
       "  </tbody>\n",
       "</table>\n",
       "</div>"
      ],
      "text/plain": [
       "                  count         mean         std       min       25%  \\\n",
       "age             41176.0    40.023800   10.420680    17.000    32.000   \n",
       "duration        41176.0   258.315815  259.305321     0.000   102.000   \n",
       "campaign        41176.0     2.567879    2.770318     1.000     1.000   \n",
       "pdays           41176.0   962.464810  186.937102     0.000   999.000   \n",
       "previous        41176.0     0.173013    0.494964     0.000     0.000   \n",
       "emp.var.rate    41176.0     0.081922    1.570883    -3.400    -1.800   \n",
       "cons.price.idx  41176.0    93.575720    0.578839    92.201    93.075   \n",
       "cons.conf.idx   41176.0   -40.502863    4.627860   -50.800   -42.700   \n",
       "euribor3m       41176.0     3.621293    1.734437     0.634     1.344   \n",
       "nr.employed     41176.0  5167.034870   72.251364  4963.600  5099.100   \n",
       "\n",
       "                     50%       75%       max  \n",
       "age               38.000    47.000    98.000  \n",
       "duration         180.000   319.000  4918.000  \n",
       "campaign           2.000     3.000    56.000  \n",
       "pdays            999.000   999.000   999.000  \n",
       "previous           0.000     0.000     7.000  \n",
       "emp.var.rate       1.100     1.400     1.400  \n",
       "cons.price.idx    93.749    93.994    94.767  \n",
       "cons.conf.idx    -41.800   -36.400   -26.900  \n",
       "euribor3m          4.857     4.961     5.045  \n",
       "nr.employed     5191.000  5228.100  5228.100  "
      ]
     },
     "execution_count": 6,
     "metadata": {},
     "output_type": "execute_result"
    }
   ],
   "source": [
    "df.describe().T"
   ]
  },
  {
   "cell_type": "markdown",
   "id": "0dfc7c19",
   "metadata": {},
   "source": [
    "- From the data, we can observe that the mean age is 40 years with a maximum age of 98 years and minimum age of 17 years\n",
    "- The average contact duration is 258 seconds"
   ]
  },
  {
   "cell_type": "markdown",
   "id": "ef912045",
   "metadata": {},
   "source": [
    "## Distribution of dependant variable classes"
   ]
  },
  {
   "cell_type": "code",
   "execution_count": 7,
   "id": "1fc18195",
   "metadata": {},
   "outputs": [
    {
     "data": {
      "text/plain": [
       "<AxesSubplot:xlabel='y', ylabel='count'>"
      ]
     },
     "execution_count": 7,
     "metadata": {},
     "output_type": "execute_result"
    },
    {
     "data": {
      "image/png": "[encoded data removed]",
      "text/plain": [
       "<Figure size 288x288 with 1 Axes>"
      ]
     },
     "metadata": {
      "needs_background": "light"
     },
     "output_type": "display_data"
    }
   ],
   "source": [
    "plt.figure(figsize=(4,4))\n",
    "sns.countplot(data = df, x = 'y')"
   ]
  },
  {
   "cell_type": "code",
   "execution_count": 8,
   "id": "910ede93",
   "metadata": {},
   "outputs": [
    {
     "data": {
      "text/plain": [
       "no     88.73\n",
       "yes    11.27\n",
       "Name: y, dtype: float64"
      ]
     },
     "execution_count": 8,
     "metadata": {},
     "output_type": "execute_result"
    }
   ],
   "source": [
    "np.round(df['y'].value_counts()/len(df)*100, 2)"
   ]
  },
  {
   "cell_type": "markdown",
   "id": "4d458491",
   "metadata": {},
   "source": [
    "- **88.73%** of the classes are **`no`** and only **11.27%** of the classes are **`yes`**\n",
    "- There is a clear misbalance between classes.\n",
    "- **This can be handled by either using stratify = y, or by sampling**"
   ]
  },
  {
   "cell_type": "markdown",
   "id": "884b342a",
   "metadata": {},
   "source": [
    "## Univariate Analysis for Numerical features"
   ]
  },
  {
   "cell_type": "code",
   "execution_count": 9,
   "id": "65ab0324",
   "metadata": {},
   "outputs": [
    {
     "name": "stdout",
     "output_type": "stream",
     "text": [
      "10\n"
     ]
    },
    {
     "data": {
      "text/plain": [
       "['age',\n",
       " 'duration',\n",
       " 'campaign',\n",
       " 'pdays',\n",
       " 'previous',\n",
       " 'emp.var.rate',\n",
       " 'cons.price.idx',\n",
       " 'cons.conf.idx',\n",
       " 'euribor3m',\n",
       " 'nr.employed']"
      ]
     },
     "execution_count": 9,
     "metadata": {},
     "output_type": "execute_result"
    }
   ],
   "source": [
    "# getting all numerical features\n",
    "numerical = [feature for feature in df.columns if df[feature].dtype != 'O']\n",
    "print(len(numerical))\n",
    "numerical"
   ]
  },
  {
   "cell_type": "code",
   "execution_count": 10,
   "id": "7a266b44",
   "metadata": {},
   "outputs": [
    {
     "data": {
      "image/png": "[encoded data removed]",
      "text/plain": [
       "<Figure size 1080x864 with 12 Axes>"
      ]
     },
     "metadata": {
      "needs_background": "light"
     },
     "output_type": "display_data"
    }
   ],
   "source": [
    "df[numerical].hist(figsize=(15,12))\n",
    "plt.show()"
   ]
  },
  {
   "cell_type": "markdown",
   "id": "5ee797ac",
   "metadata": {},
   "source": [
    "- **duration, campaign, previous and age** are `right skewed` whereas others are `left skewed`"
   ]
  },
  {
   "cell_type": "code",
   "execution_count": 11,
   "id": "e4a1db99",
   "metadata": {},
   "outputs": [
    {
     "data": {
      "image/png": "[encoded data removed]",
      "text/plain": [
       "<Figure size 1080x1080 with 10 Axes>"
      ]
     },
     "metadata": {
      "needs_background": "light"
     },
     "output_type": "display_data"
    }
   ],
   "source": [
    "# checking outliers\n",
    "def check_outliers(df):\n",
    "    plt.figure(figsize=(15, 15))\n",
    "\n",
    "    for i, variable in enumerate(numerical):\n",
    "        plt.subplot(5, 4, i + 1)\n",
    "        plt.boxplot(df[variable], whis=1.5)\n",
    "        plt.tight_layout()\n",
    "        plt.title(variable)\n",
    "\n",
    "    plt.show()\n",
    "\n",
    "check_outliers(df)"
   ]
  },
  {
   "cell_type": "markdown",
   "id": "011f92a1",
   "metadata": {},
   "source": [
    "- maximum outliers are present in **age, duration, campaign, previous and pdays**"
   ]
  },
  {
   "cell_type": "markdown",
   "id": "90f2e753",
   "metadata": {},
   "source": [
    "## Univariate Analysis for Categorical features"
   ]
  },
  {
   "cell_type": "code",
   "execution_count": 12,
   "id": "e16aed43",
   "metadata": {},
   "outputs": [
    {
     "name": "stdout",
     "output_type": "stream",
     "text": [
      "11\n"
     ]
    },
    {
     "data": {
      "text/plain": [
       "['job',\n",
       " 'marital',\n",
       " 'education',\n",
       " 'default',\n",
       " 'housing',\n",
       " 'loan',\n",
       " 'contact',\n",
       " 'month',\n",
       " 'day_of_week',\n",
       " 'poutcome',\n",
       " 'y']"
      ]
     },
     "execution_count": 12,
     "metadata": {},
     "output_type": "execute_result"
    }
   ],
   "source": [
    "# getting all categorical features\n",
    "categorical = [f for f in df.columns if df[f].dtype == 'O']\n",
    "print(len(categorical))\n",
    "categorical"
   ]
  },
  {
   "cell_type": "code",
   "execution_count": 13,
   "id": "e7552cc5",
   "metadata": {},
   "outputs": [],
   "source": [
    "def distribution(feature, perc=True, data=df):\n",
    "    percent = df[feature].value_counts() / len(df)\n",
    "    return percent * 100 if perc else percent"
   ]
  },
  {
   "cell_type": "code",
   "execution_count": 14,
   "id": "83183d27",
   "metadata": {},
   "outputs": [
    {
     "name": "stdout",
     "output_type": "stream",
     "text": [
      "JOB\n",
      "admin.           25.30\n",
      "blue-collar      22.47\n",
      "technician       16.37\n",
      "services          9.63\n",
      "management        7.10\n",
      "retired           4.17\n",
      "entrepreneur      3.54\n",
      "self-employed     3.45\n",
      "housemaid         2.57\n",
      "unemployed        2.46\n",
      "student           2.13\n",
      "unknown           0.80\n",
      "Name: job, dtype: float64\n",
      "\n",
      "MARITAL\n",
      "married     60.52\n",
      "single      28.08\n",
      "divorced    11.20\n",
      "unknown      0.19\n",
      "Name: marital, dtype: float64\n",
      "\n",
      "EDUCATION\n",
      "university.degree      29.54\n",
      "high.school            23.10\n",
      "basic.9y               14.68\n",
      "professional.course    12.73\n",
      "basic.4y               10.14\n",
      "basic.6y                5.56\n",
      "unknown                 4.20\n",
      "illiterate              0.04\n",
      "Name: education, dtype: float64\n",
      "\n",
      "DEFAULT\n",
      "no         79.12\n",
      "unknown    20.88\n",
      "yes         0.01\n",
      "Name: default, dtype: float64\n",
      "\n",
      "HOUSING\n",
      "yes        52.39\n",
      "no         45.21\n",
      "unknown     2.40\n",
      "Name: housing, dtype: float64\n",
      "\n",
      "LOAN\n",
      "no         82.42\n",
      "yes        15.17\n",
      "unknown     2.40\n",
      "Name: loan, dtype: float64\n",
      "\n",
      "CONTACT\n",
      "cellular     63.47\n",
      "telephone    36.53\n",
      "Name: contact, dtype: float64\n",
      "\n",
      "MONTH\n",
      "may    33.43\n",
      "jul    17.41\n",
      "aug    15.00\n",
      "jun    12.92\n",
      "nov     9.96\n",
      "apr     6.39\n",
      "oct     1.74\n",
      "sep     1.38\n",
      "mar     1.33\n",
      "dec     0.44\n",
      "Name: month, dtype: float64\n",
      "\n",
      "DAY_OF_WEEK\n",
      "thu    20.93\n",
      "mon    20.67\n",
      "wed    19.75\n",
      "tue    19.64\n",
      "fri    19.01\n",
      "Name: day_of_week, dtype: float64\n",
      "\n",
      "POUTCOME\n",
      "nonexistent    86.34\n",
      "failure        10.33\n",
      "success         3.33\n",
      "Name: poutcome, dtype: float64\n",
      "\n",
      "Y\n",
      "no     88.73\n",
      "yes    11.27\n",
      "Name: y, dtype: float64\n",
      "\n"
     ]
    }
   ],
   "source": [
    "# displaying cardinality percentage of top each class in categorical features\n",
    "for i in categorical:\n",
    "    print(i.upper())\n",
    "    print(np.round(distribution(i), 2))\n",
    "    print()"
   ]
  },
  {
   "cell_type": "markdown",
   "id": "039f4d63",
   "metadata": {},
   "source": [
    "**The below steps can be performed in order to reduce dimensions after encoding**\n",
    "- basic.9y, basic.4y, bacis.6y in education class can be converted to just **'basic'**\n",
    "- **'unknown'** can be dropped from marital and JOB since it is only present 0.19% and 0.8%, respectively of martial and JOB features.\n",
    "- **'illiterate'** can be dropped from the education feature since it is only present 0.04%.\n",
    "- **'yes'** can be removed from default since it is onl present 0.01% which is very less.\n",
    "\n",
    "The above mentioned categories are very less in terms of their distribution. And hence should not be considered while encoding the categorical vairables to form new features."
   ]
  },
  {
   "cell_type": "markdown",
   "id": "71ec9e95",
   "metadata": {},
   "source": [
    "# Bivariate Analysis"
   ]
  },
  {
   "cell_type": "code",
   "execution_count": 15,
   "id": "9be3d6ee",
   "metadata": {},
   "outputs": [],
   "source": [
    "# function to plot countplot\n",
    "def countplot(feature, hue = None):\n",
    "    print(np.round(df[feature].value_counts()/len(df)*100))\n",
    "    plt.figure(figsize = (6,5))\n",
    "    sns.countplot(x = feature,data = df, hue=hue)\n",
    "    plt.xticks(rotation=80)"
   ]
  },
  {
   "cell_type": "code",
   "execution_count": 16,
   "id": "68ebbbf4",
   "metadata": {},
   "outputs": [
    {
     "name": "stdout",
     "output_type": "stream",
     "text": [
      "married     61.0\n",
      "single      28.0\n",
      "divorced    11.0\n",
      "unknown      0.0\n",
      "Name: marital, dtype: float64\n"
     ]
    },
    {
     "data": {
      "image/png": "[encoded data removed]",
      "text/plain": [
       "<Figure size 432x360 with 1 Axes>"
      ]
     },
     "metadata": {
      "needs_background": "light"
     },
     "output_type": "display_data"
    }
   ],
   "source": [
    "# checking the percent of each category in marital status\n",
    "countplot('marital', 'y')"
   ]
  },
  {
   "cell_type": "markdown",
   "id": "2a8be499",
   "metadata": {},
   "source": [
    "- majority of the customers are married (61%) followed by single, divorced and unknown\n",
    "- most of the married people have not subscribed to a term deposit"
   ]
  },
  {
   "cell_type": "code",
   "execution_count": 17,
   "id": "fe5e8706",
   "metadata": {},
   "outputs": [
    {
     "name": "stdout",
     "output_type": "stream",
     "text": [
      "university.degree      30.0\n",
      "high.school            23.0\n",
      "basic.9y               15.0\n",
      "professional.course    13.0\n",
      "basic.4y               10.0\n",
      "basic.6y                6.0\n",
      "unknown                 4.0\n",
      "illiterate              0.0\n",
      "Name: education, dtype: float64\n"
     ]
    },
    {
     "data": {
      "image/png": "[encoded data removed]",
      "text/plain": [
       "<Figure size 432x360 with 1 Axes>"
      ]
     },
     "metadata": {
      "needs_background": "light"
     },
     "output_type": "display_data"
    }
   ],
   "source": [
    "countplot('education', 'y')"
   ]
  },
  {
   "cell_type": "markdown",
   "id": "6d25efac",
   "metadata": {},
   "source": [
    "- most of the people have a university degree (30%) followed by high school and basic 9y\n",
    "- most of the people have not subscribed to the term deposit"
   ]
  },
  {
   "cell_type": "code",
   "execution_count": 18,
   "id": "48e2e039",
   "metadata": {},
   "outputs": [
    {
     "name": "stdout",
     "output_type": "stream",
     "text": [
      "yes        52.0\n",
      "no         45.0\n",
      "unknown     2.0\n",
      "Name: housing, dtype: float64\n"
     ]
    },
    {
     "data": {
      "image/png": "[encoded data removed]",
      "text/plain": [
       "<Figure size 432x360 with 1 Axes>"
      ]
     },
     "metadata": {
      "needs_background": "light"
     },
     "output_type": "display_data"
    }
   ],
   "source": [
    "countplot('housing', 'y')"
   ]
  },
  {
   "cell_type": "markdown",
   "id": "12093b20",
   "metadata": {},
   "source": [
    "- majority of the customers have a housing loan\n",
    "- and most of the customers with housing loans have not subscribed to the term deposit"
   ]
  },
  {
   "cell_type": "code",
   "execution_count": 19,
   "id": "f075a965",
   "metadata": {},
   "outputs": [
    {
     "name": "stdout",
     "output_type": "stream",
     "text": [
      "nonexistent    86.0\n",
      "failure        10.0\n",
      "success         3.0\n",
      "Name: poutcome, dtype: float64\n"
     ]
    },
    {
     "data": {
      "image/png": "[encoded data removed]",
      "text/plain": [
       "<Figure size 432x360 with 1 Axes>"
      ]
     },
     "metadata": {
      "needs_background": "light"
     },
     "output_type": "display_data"
    }
   ],
   "source": [
    "countplot('poutcome', 'y')"
   ]
  },
  {
   "cell_type": "markdown",
   "id": "4c520f2e",
   "metadata": {},
   "source": [
    " - the previous marketing campaign outcome does not exists for most customers. It means that most of the customers are new customers who have not been contacted earlier.\n",
    " - And most of the clients who have been contacted, **did subscribe** for a term deposit"
   ]
  },
  {
   "cell_type": "code",
   "execution_count": 20,
   "id": "5fde0934",
   "metadata": {},
   "outputs": [
    {
     "name": "stdout",
     "output_type": "stream",
     "text": [
      "thu    21.0\n",
      "mon    21.0\n",
      "wed    20.0\n",
      "tue    20.0\n",
      "fri    19.0\n",
      "Name: day_of_week, dtype: float64\n"
     ]
    },
    {
     "data": {
      "image/png": "[encoded data removed]",
      "text/plain": [
       "<Figure size 432x360 with 1 Axes>"
      ]
     },
     "metadata": {
      "needs_background": "light"
     },
     "output_type": "display_data"
    }
   ],
   "source": [
    "countplot('day_of_week','y')"
   ]
  },
  {
   "cell_type": "markdown",
   "id": "747b64ff",
   "metadata": {},
   "source": [
    "- all the days have the similar distribution for both the classes\n",
    "- this feature might not be of much use"
   ]
  },
  {
   "cell_type": "code",
   "execution_count": 21,
   "id": "e8e5790a",
   "metadata": {},
   "outputs": [
    {
     "data": {
      "text/plain": [
       "<AxesSubplot:>"
      ]
     },
     "execution_count": 21,
     "metadata": {},
     "output_type": "execute_result"
    },
    {
     "data": {
      "image/png": "[encoded data removed]",
      "text/plain": [
       "<Figure size 864x576 with 2 Axes>"
      ]
     },
     "metadata": {
      "needs_background": "light"
     },
     "output_type": "display_data"
    }
   ],
   "source": [
    "# checking correlation for numerical features\n",
    "plt.figure(figsize = (12, 8))\n",
    "sns.heatmap(df.corr(), annot = True, cmap = 'YlGnBu')"
   ]
  },
  {
   "cell_type": "markdown",
   "id": "294befe8",
   "metadata": {},
   "source": [
    "- **emp.var.rate, cons.price.idx, euribor3m** and **nr.employed** have very high correlation\n",
    "- these features shall be removed since they do not contribute any different from the features that they are in high correlation with"
   ]
  },
  {
   "cell_type": "markdown",
   "id": "7a286632",
   "metadata": {},
   "source": [
    "# Data Pre-Processing and cleaning"
   ]
  },
  {
   "cell_type": "code",
   "execution_count": 22,
   "id": "ef5224d9",
   "metadata": {},
   "outputs": [],
   "source": [
    "# 1. removing highly correlated features\n",
    "df.drop(['euribor3m', 'nr.employed'], axis = 1, inplace = True)"
   ]
  },
  {
   "cell_type": "code",
   "execution_count": 23,
   "id": "21310ac8",
   "metadata": {},
   "outputs": [],
   "source": [
    "# 2. transforming categories in education - by checking for 5th character in education to be a dot - '.'\n",
    "df['education'] = df['education'].apply(lambda x : 'basic' if x[5] == '.' else x)"
   ]
  },
  {
   "cell_type": "code",
   "execution_count": 24,
   "id": "0db21daf",
   "metadata": {},
   "outputs": [
    {
     "data": {
      "text/plain": [
       "basic                  12512\n",
       "university.degree      12164\n",
       "high.school             9512\n",
       "professional.course     5240\n",
       "unknown                 1730\n",
       "illiterate                18\n",
       "Name: education, dtype: int64"
      ]
     },
     "execution_count": 24,
     "metadata": {},
     "output_type": "execute_result"
    }
   ],
   "source": [
    "df.education.value_counts()"
   ]
  },
  {
   "cell_type": "code",
   "execution_count": 25,
   "id": "ce5e2e15",
   "metadata": {},
   "outputs": [],
   "source": [
    "# 3. dropping unknown from marital and JOB\n",
    "df = df[df.marital != 'unknown']\n",
    "df = df[df.job != 'unknown']"
   ]
  },
  {
   "cell_type": "code",
   "execution_count": 26,
   "id": "9732929c",
   "metadata": {},
   "outputs": [],
   "source": [
    "# 4. dropping illiterate from education\n",
    "df = df[df.education != 'illiterate']"
   ]
  },
  {
   "cell_type": "code",
   "execution_count": 27,
   "id": "696faadb",
   "metadata": {},
   "outputs": [],
   "source": [
    "# 5. label encoding the dependant variable - y\n",
    "df['y'] = df['y'].apply(lambda x : 1 if x == 'yes' else 0)"
   ]
  },
  {
   "cell_type": "markdown",
   "id": "92fed02d",
   "metadata": {},
   "source": [
    "# Data Preparation for training"
   ]
  },
  {
   "cell_type": "code",
   "execution_count": 28,
   "id": "13381dc7",
   "metadata": {},
   "outputs": [],
   "source": [
    "# splitting data into X and y\n",
    "X = df.drop('y', axis = 1)\n",
    "y = df['y']\n",
    "\n",
    "# getting dummies\n",
    "X = pd.get_dummies(X)\n",
    "\n",
    "# train-test-split\n",
    "X_train, X_test, y_train, y_test = train_test_split(X, y, test_size=0.2, random_state=1, stratify = y)"
   ]
  },
  {
   "cell_type": "code",
   "execution_count": 29,
   "id": "5e3821fe",
   "metadata": {},
   "outputs": [
    {
     "name": "stdout",
     "output_type": "stream",
     "text": [
      "(32605, 56)\n",
      "(8152, 56)\n",
      "(32605,)\n",
      "(8152,)\n"
     ]
    }
   ],
   "source": [
    "print(X_train.shape)\n",
    "print(X_test.shape)\n",
    "print(y_train.shape)\n",
    "print(y_test.shape)"
   ]
  },
  {
   "cell_type": "markdown",
   "id": "d6a11302",
   "metadata": {},
   "source": [
    "# Model evaluation criterion\n",
    "\n",
    "**Possible wrong predictions**\n",
    "- Predicting a client will subscribe to the term deposit but in reality the client will not subscribe - Loss of resources\n",
    "- Predicting a client will not subscribe to the term deposit but in reality the customer was going to subscribe - Loss of opportunity\n",
    "\n",
    "**Case Importance**\n",
    "- The second case is more important - losing a potential client by predicting that he/she will not subscribe is more important\n",
    "- This is False Negative - we need to reduce FN - hence `increase Recall`\n",
    "\n",
    "**General Case**\n",
    "- We can optimise the F1-Score in order to have a more generalised model that reduces both FP and FN"
   ]
  },
  {
   "cell_type": "markdown",
   "id": "cc8588c4",
   "metadata": {},
   "source": [
    "# Model Building without Hyperparameter tuning"
   ]
  },
  {
   "cell_type": "code",
   "execution_count": 30,
   "id": "f831793c",
   "metadata": {},
   "outputs": [],
   "source": [
    "# functions to predict model performance\n",
    "\n",
    "def model_performance_with_threshold(model, predictors, target, threshold=0.5):\n",
    "\n",
    "    # predicting using the independent variables\n",
    "    pred_prob = model.predict_proba(predictors)[:, 1]\n",
    "    pred_thres = pred_prob > threshold\n",
    "    pred = np.round(pred_thres)  # will round every prob > thresh to 1\n",
    "\n",
    "    acc = accuracy_score(target, pred)  # to compute Accuracy\n",
    "    recall = recall_score(target, pred)  # to compute Recall\n",
    "    precision = precision_score(target, pred)  # to compute Precision\n",
    "    f1 = f1_score(target, pred)  # to compute F1-score\n",
    "\n",
    "    # creating a dataframe of metrics\n",
    "    df_perf = pd.DataFrame(\n",
    "        {\"Accuracy\": acc, \"Recall\": recall, \"Precision\": precision, \"F1\": f1,},\n",
    "        index=[\"Value\"],\n",
    "    )\n",
    "\n",
    "    return df_perf.T\n",
    "\n",
    "\n",
    "def model_performance(target,pred):    \n",
    "    acc = accuracy_score(target, pred)  # to compute Accuracy\n",
    "    recall = recall_score(target, pred)  # to compute Recall\n",
    "    precision = precision_score(target, pred)  # to compute Precision\n",
    "    f1 = f1_score(target, pred)  # to compute F1-score\n",
    "\n",
    "    # creating a dataframe of metrics\n",
    "    df_perf = pd.DataFrame(\n",
    "        {\"Accuracy\": acc, \"Recall\": recall, \"Precision\": precision, \"F1\": f1,},\n",
    "        index=[\"Value\"],)\n",
    "    \n",
    "    return df_perf.T"
   ]
  },
  {
   "cell_type": "markdown",
   "id": "2d095301",
   "metadata": {},
   "source": [
    "## 1. Logistic Regression"
   ]
  },
  {
   "cell_type": "code",
   "execution_count": 31,
   "id": "a98e5d52",
   "metadata": {},
   "outputs": [
    {
     "data": {
      "text/plain": [
       "LogisticRegression()"
      ]
     },
     "execution_count": 31,
     "metadata": {},
     "output_type": "execute_result"
    }
   ],
   "source": [
    "# training\n",
    "lr = LogisticRegression()\n",
    "lr.fit(X_train, y_train)"
   ]
  },
  {
   "cell_type": "code",
   "execution_count": 32,
   "id": "3b16f4a5",
   "metadata": {},
   "outputs": [],
   "source": [
    "# prediction\n",
    "y_pred_lr = lr.predict(X_test)"
   ]
  },
  {
   "cell_type": "code",
   "execution_count": 33,
   "id": "99f8a27c",
   "metadata": {},
   "outputs": [
    {
     "name": "stdout",
     "output_type": "stream",
     "text": [
      "TEST SET RESULT\n"
     ]
    },
    {
     "data": {
      "text/html": [
       "<div>\n",
       "<style scoped>\n",
       "    .dataframe tbody tr th:only-of-type {\n",
       "        vertical-align: middle;\n",
       "    }\n",
       "\n",
       "    .dataframe tbody tr th {\n",
       "        vertical-align: top;\n",
       "    }\n",
       "\n",
       "    .dataframe thead th {\n",
       "        text-align: right;\n",
       "    }\n",
       "</style>\n",
       "<table border=\"1\" class=\"dataframe\">\n",
       "  <thead>\n",
       "    <tr style=\"text-align: right;\">\n",
       "      <th></th>\n",
       "      <th>Value</th>\n",
       "    </tr>\n",
       "  </thead>\n",
       "  <tbody>\n",
       "    <tr>\n",
       "      <th>Accuracy</th>\n",
       "      <td>0.904073</td>\n",
       "    </tr>\n",
       "    <tr>\n",
       "      <th>Recall</th>\n",
       "      <td>0.368192</td>\n",
       "    </tr>\n",
       "    <tr>\n",
       "      <th>Precision</th>\n",
       "      <td>0.625926</td>\n",
       "    </tr>\n",
       "    <tr>\n",
       "      <th>F1</th>\n",
       "      <td>0.463649</td>\n",
       "    </tr>\n",
       "  </tbody>\n",
       "</table>\n",
       "</div>"
      ],
      "text/plain": [
       "              Value\n",
       "Accuracy   0.904073\n",
       "Recall     0.368192\n",
       "Precision  0.625926\n",
       "F1         0.463649"
      ]
     },
     "execution_count": 33,
     "metadata": {},
     "output_type": "execute_result"
    }
   ],
   "source": [
    "# result\n",
    "print(\"TEST SET RESULT\")\n",
    "lr_result_test= model_performance_with_threshold(lr, X_test, y_test, threshold=0.5)\n",
    "lr_result_test"
   ]
  },
  {
   "cell_type": "markdown",
   "id": "2100ea19",
   "metadata": {},
   "source": [
    "## 2. Support Vector Classifier"
   ]
  },
  {
   "cell_type": "code",
   "execution_count": 34,
   "id": "2431969d",
   "metadata": {},
   "outputs": [
    {
     "data": {
      "text/plain": [
       "SVC()"
      ]
     },
     "execution_count": 34,
     "metadata": {},
     "output_type": "execute_result"
    }
   ],
   "source": [
    "# training\n",
    "svc = SVC()\n",
    "svc.fit(X_train, y_train)"
   ]
  },
  {
   "cell_type": "code",
   "execution_count": 35,
   "id": "70465195",
   "metadata": {},
   "outputs": [],
   "source": [
    "# prediction\n",
    "y_pred_svc = svc.predict(X_test)"
   ]
  },
  {
   "cell_type": "code",
   "execution_count": 36,
   "id": "204aa520",
   "metadata": {},
   "outputs": [
    {
     "name": "stdout",
     "output_type": "stream",
     "text": [
      "TEST SET RESULT\n"
     ]
    },
    {
     "data": {
      "text/html": [
       "<div>\n",
       "<style scoped>\n",
       "    .dataframe tbody tr th:only-of-type {\n",
       "        vertical-align: middle;\n",
       "    }\n",
       "\n",
       "    .dataframe tbody tr th {\n",
       "        vertical-align: top;\n",
       "    }\n",
       "\n",
       "    .dataframe thead th {\n",
       "        text-align: right;\n",
       "    }\n",
       "</style>\n",
       "<table border=\"1\" class=\"dataframe\">\n",
       "  <thead>\n",
       "    <tr style=\"text-align: right;\">\n",
       "      <th></th>\n",
       "      <th>Value</th>\n",
       "    </tr>\n",
       "  </thead>\n",
       "  <tbody>\n",
       "    <tr>\n",
       "      <th>Accuracy</th>\n",
       "      <td>0.904073</td>\n",
       "    </tr>\n",
       "    <tr>\n",
       "      <th>Recall</th>\n",
       "      <td>0.296296</td>\n",
       "    </tr>\n",
       "    <tr>\n",
       "      <th>Precision</th>\n",
       "      <td>0.666667</td>\n",
       "    </tr>\n",
       "    <tr>\n",
       "      <th>F1</th>\n",
       "      <td>0.410256</td>\n",
       "    </tr>\n",
       "  </tbody>\n",
       "</table>\n",
       "</div>"
      ],
      "text/plain": [
       "              Value\n",
       "Accuracy   0.904073\n",
       "Recall     0.296296\n",
       "Precision  0.666667\n",
       "F1         0.410256"
      ]
     },
     "execution_count": 36,
     "metadata": {},
     "output_type": "execute_result"
    }
   ],
   "source": [
    "# result\n",
    "print(\"TEST SET RESULT\")\n",
    "svc_result_test = model_performance(y_test, y_pred_svc)\n",
    "svc_result_test"
   ]
  },
  {
   "cell_type": "markdown",
   "id": "5ee6b02b",
   "metadata": {},
   "source": [
    "## 3. Random Forest Classifier"
   ]
  },
  {
   "cell_type": "code",
   "execution_count": 37,
   "id": "6ab9adc5",
   "metadata": {},
   "outputs": [
    {
     "data": {
      "text/plain": [
       "RandomForestClassifier()"
      ]
     },
     "execution_count": 37,
     "metadata": {},
     "output_type": "execute_result"
    }
   ],
   "source": [
    "# training\n",
    "rf = RandomForestClassifier()\n",
    "rf.fit(X_train, y_train)"
   ]
  },
  {
   "cell_type": "code",
   "execution_count": 38,
   "id": "2383b9ad",
   "metadata": {},
   "outputs": [],
   "source": [
    "# prediction\n",
    "y_pred_rf = rf.predict(X_test)"
   ]
  },
  {
   "cell_type": "code",
   "execution_count": 39,
   "id": "e0fab8be",
   "metadata": {},
   "outputs": [
    {
     "name": "stdout",
     "output_type": "stream",
     "text": [
      "TEST SET RESULT\n"
     ]
    },
    {
     "data": {
      "text/html": [
       "<div>\n",
       "<style scoped>\n",
       "    .dataframe tbody tr th:only-of-type {\n",
       "        vertical-align: middle;\n",
       "    }\n",
       "\n",
       "    .dataframe tbody tr th {\n",
       "        vertical-align: top;\n",
       "    }\n",
       "\n",
       "    .dataframe thead th {\n",
       "        text-align: right;\n",
       "    }\n",
       "</style>\n",
       "<table border=\"1\" class=\"dataframe\">\n",
       "  <thead>\n",
       "    <tr style=\"text-align: right;\">\n",
       "      <th></th>\n",
       "      <th>Value</th>\n",
       "    </tr>\n",
       "  </thead>\n",
       "  <tbody>\n",
       "    <tr>\n",
       "      <th>Accuracy</th>\n",
       "      <td>0.909715</td>\n",
       "    </tr>\n",
       "    <tr>\n",
       "      <th>Recall</th>\n",
       "      <td>0.457516</td>\n",
       "    </tr>\n",
       "    <tr>\n",
       "      <th>Precision</th>\n",
       "      <td>0.638298</td>\n",
       "    </tr>\n",
       "    <tr>\n",
       "      <th>F1</th>\n",
       "      <td>0.532995</td>\n",
       "    </tr>\n",
       "  </tbody>\n",
       "</table>\n",
       "</div>"
      ],
      "text/plain": [
       "              Value\n",
       "Accuracy   0.909715\n",
       "Recall     0.457516\n",
       "Precision  0.638298\n",
       "F1         0.532995"
      ]
     },
     "execution_count": 39,
     "metadata": {},
     "output_type": "execute_result"
    }
   ],
   "source": [
    "# result\n",
    "print(\"TEST SET RESULT\")\n",
    "rf_result_test = model_performance(y_test, y_pred_rf)\n",
    "rf_result_test"
   ]
  },
  {
   "cell_type": "markdown",
   "id": "1074a43c",
   "metadata": {},
   "source": [
    "# Model Building with Hyperparameter tuning "
   ]
  },
  {
   "cell_type": "markdown",
   "id": "3ba74df8",
   "metadata": {},
   "source": [
    "## 1. Logistic Regression"
   ]
  },
  {
   "cell_type": "code",
   "execution_count": 40,
   "id": "39632ccf",
   "metadata": {},
   "outputs": [
    {
     "data": {
      "image/png": "[encoded data removed]",
      "text/plain": [
       "<Figure size 576x432 with 1 Axes>"
      ]
     },
     "metadata": {
      "needs_background": "light"
     },
     "output_type": "display_data"
    }
   ],
   "source": [
    "# Finding optimal parameter from Precision-recall curve \n",
    "\n",
    "y_scores = lr.predict_proba(X_train)[:, 1]\n",
    "prec, rec, tre = precision_recall_curve(y_train, y_scores)\n",
    "\n",
    "\n",
    "def plot_prec_recall_vs_tresh(precisions, recalls, thresholds):\n",
    "    plt.plot(thresholds, precisions[:-1], \"b--\", label=\"precision\")\n",
    "    plt.plot(thresholds, recalls[:-1], \"g--\", label=\"recall\")\n",
    "    plt.xlabel(\"Threshold\")\n",
    "    plt.legend(loc=\"upper left\")\n",
    "    plt.ylim([0, 1])\n",
    "\n",
    "\n",
    "plt.figure(figsize=(8, 6))\n",
    "plot_prec_recall_vs_tresh(prec, rec, tre)\n",
    "plt.show()"
   ]
  },
  {
   "cell_type": "markdown",
   "id": "d4be7aa8",
   "metadata": {},
   "source": [
    "- for a threshold of around **`0.1`**, the Recall is significantly high\n",
    "- Since for this problem, we need to increase the recall to reduce the FN rate, we will choose threshold as **0.1**"
   ]
  },
  {
   "cell_type": "code",
   "execution_count": 41,
   "id": "0f1f64f5",
   "metadata": {},
   "outputs": [
    {
     "data": {
      "text/html": [
       "<div>\n",
       "<style scoped>\n",
       "    .dataframe tbody tr th:only-of-type {\n",
       "        vertical-align: middle;\n",
       "    }\n",
       "\n",
       "    .dataframe tbody tr th {\n",
       "        vertical-align: top;\n",
       "    }\n",
       "\n",
       "    .dataframe thead th {\n",
       "        text-align: right;\n",
       "    }\n",
       "</style>\n",
       "<table border=\"1\" class=\"dataframe\">\n",
       "  <thead>\n",
       "    <tr style=\"text-align: right;\">\n",
       "      <th></th>\n",
       "      <th>Value</th>\n",
       "    </tr>\n",
       "  </thead>\n",
       "  <tbody>\n",
       "    <tr>\n",
       "      <th>Accuracy</th>\n",
       "      <td>0.830716</td>\n",
       "    </tr>\n",
       "    <tr>\n",
       "      <th>Recall</th>\n",
       "      <td>0.888889</td>\n",
       "    </tr>\n",
       "    <tr>\n",
       "      <th>Precision</th>\n",
       "      <td>0.389685</td>\n",
       "    </tr>\n",
       "    <tr>\n",
       "      <th>F1</th>\n",
       "      <td>0.541833</td>\n",
       "    </tr>\n",
       "  </tbody>\n",
       "</table>\n",
       "</div>"
      ],
      "text/plain": [
       "              Value\n",
       "Accuracy   0.830716\n",
       "Recall     0.888889\n",
       "Precision  0.389685\n",
       "F1         0.541833"
      ]
     },
     "execution_count": 41,
     "metadata": {},
     "output_type": "execute_result"
    }
   ],
   "source": [
    "lr_result_hyp = model_performance_with_threshold(lr, X_test, y_test, threshold=0.1)\n",
    "lr_result_hyp"
   ]
  },
  {
   "cell_type": "markdown",
   "id": "1b7fe453",
   "metadata": {},
   "source": [
    "- The recall is significantly increased for a lesser threshold value of **0.1**\n",
    "- **For a more generalised mode, we can choose a threshold around `0.3` for a balnced precision-recall and good F1-score**"
   ]
  },
  {
   "cell_type": "markdown",
   "id": "fe68af3a",
   "metadata": {},
   "source": [
    "## 2. Support Vector Classifier"
   ]
  },
  {
   "cell_type": "code",
   "execution_count": 42,
   "id": "455a3352",
   "metadata": {},
   "outputs": [
    {
     "data": {
      "text/plain": [
       "SVC(C=10, class_weight='balanced', gamma='auto')"
      ]
     },
     "execution_count": 42,
     "metadata": {},
     "output_type": "execute_result"
    }
   ],
   "source": [
    "svc = SVC(C = 10 ,class_weight='balanced', gamma='auto')\n",
    "svc.fit(X_train, y_train)"
   ]
  },
  {
   "cell_type": "code",
   "execution_count": 43,
   "id": "13a21878",
   "metadata": {},
   "outputs": [],
   "source": [
    "y_pred_svc_hyp = svc.predict(X_test)"
   ]
  },
  {
   "cell_type": "code",
   "execution_count": 44,
   "id": "78f3e1ce",
   "metadata": {},
   "outputs": [
    {
     "data": {
      "text/html": [
       "<div>\n",
       "<style scoped>\n",
       "    .dataframe tbody tr th:only-of-type {\n",
       "        vertical-align: middle;\n",
       "    }\n",
       "\n",
       "    .dataframe tbody tr th {\n",
       "        vertical-align: top;\n",
       "    }\n",
       "\n",
       "    .dataframe thead th {\n",
       "        text-align: right;\n",
       "    }\n",
       "</style>\n",
       "<table border=\"1\" class=\"dataframe\">\n",
       "  <thead>\n",
       "    <tr style=\"text-align: right;\">\n",
       "      <th></th>\n",
       "      <th>Value</th>\n",
       "    </tr>\n",
       "  </thead>\n",
       "  <tbody>\n",
       "    <tr>\n",
       "      <th>Accuracy</th>\n",
       "      <td>0.890211</td>\n",
       "    </tr>\n",
       "    <tr>\n",
       "      <th>Recall</th>\n",
       "      <td>0.435730</td>\n",
       "    </tr>\n",
       "    <tr>\n",
       "      <th>Precision</th>\n",
       "      <td>0.514801</td>\n",
       "    </tr>\n",
       "    <tr>\n",
       "      <th>F1</th>\n",
       "      <td>0.471976</td>\n",
       "    </tr>\n",
       "  </tbody>\n",
       "</table>\n",
       "</div>"
      ],
      "text/plain": [
       "              Value\n",
       "Accuracy   0.890211\n",
       "Recall     0.435730\n",
       "Precision  0.514801\n",
       "F1         0.471976"
      ]
     },
     "execution_count": 44,
     "metadata": {},
     "output_type": "execute_result"
    }
   ],
   "source": [
    "svc_result_hyp = model_performance(y_test,y_pred_svc_hyp)\n",
    "svc_result_hyp"
   ]
  },
  {
   "cell_type": "markdown",
   "id": "4262e1b6",
   "metadata": {},
   "source": [
    "- The recall is increases significantly than the previus SVC model\n",
    "- Increasing the regularisation parameter and taking gamma as auto, results in a better recall and F1-score"
   ]
  },
  {
   "cell_type": "markdown",
   "id": "75fe811b",
   "metadata": {},
   "source": [
    "## 3. Random Forest Classifier"
   ]
  },
  {
   "cell_type": "code",
   "execution_count": 45,
   "id": "c4ccf1f4",
   "metadata": {},
   "outputs": [
    {
     "data": {
      "text/plain": [
       "RandomForestClassifier(n_estimators=2000, n_jobs=-1)"
      ]
     },
     "execution_count": 45,
     "metadata": {},
     "output_type": "execute_result"
    }
   ],
   "source": [
    "rf = RandomForestClassifier(n_estimators=1000,n_jobs = -1)\n",
    "rf.fit(X_train, y_train)"
   ]
  },
  {
   "cell_type": "code",
   "execution_count": 46,
   "id": "c094297e",
   "metadata": {},
   "outputs": [],
   "source": [
    "y_pred_rf_hyp = rf.predict(X_test)"
   ]
  },
  {
   "cell_type": "code",
   "execution_count": 47,
   "id": "b06f061e",
   "metadata": {},
   "outputs": [
    {
     "data": {
      "text/html": [
       "<div>\n",
       "<style scoped>\n",
       "    .dataframe tbody tr th:only-of-type {\n",
       "        vertical-align: middle;\n",
       "    }\n",
       "\n",
       "    .dataframe tbody tr th {\n",
       "        vertical-align: top;\n",
       "    }\n",
       "\n",
       "    .dataframe thead th {\n",
       "        text-align: right;\n",
       "    }\n",
       "</style>\n",
       "<table border=\"1\" class=\"dataframe\">\n",
       "  <thead>\n",
       "    <tr style=\"text-align: right;\">\n",
       "      <th></th>\n",
       "      <th>Value</th>\n",
       "    </tr>\n",
       "  </thead>\n",
       "  <tbody>\n",
       "    <tr>\n",
       "      <th>Accuracy</th>\n",
       "      <td>0.910206</td>\n",
       "    </tr>\n",
       "    <tr>\n",
       "      <th>Recall</th>\n",
       "      <td>0.472767</td>\n",
       "    </tr>\n",
       "    <tr>\n",
       "      <th>Precision</th>\n",
       "      <td>0.636364</td>\n",
       "    </tr>\n",
       "    <tr>\n",
       "      <th>F1</th>\n",
       "      <td>0.542500</td>\n",
       "    </tr>\n",
       "  </tbody>\n",
       "</table>\n",
       "</div>"
      ],
      "text/plain": [
       "              Value\n",
       "Accuracy   0.910206\n",
       "Recall     0.472767\n",
       "Precision  0.636364\n",
       "F1         0.542500"
      ]
     },
     "execution_count": 47,
     "metadata": {},
     "output_type": "execute_result"
    }
   ],
   "source": [
    "rf_result_hyp = model_performance(y_test,y_pred_rf_hyp)\n",
    "rf_result_hyp"
   ]
  },
  {
   "attachments": {},
   "cell_type": "markdown",
   "id": "727086ce",
   "metadata": {},
   "source": [
    "- Recall **increases slightly** with an increase in F1-score as well.\n",
    "- with 1000 estimators, the model has a better recall and F1-score with an increase in the accuracy."
   ]
  },
  {
   "cell_type": "markdown",
   "id": "74ca3933",
   "metadata": {},
   "source": [
    "# Model Performance Summary"
   ]
  },
  {
   "cell_type": "code",
   "execution_count": 48,
   "id": "79a88294",
   "metadata": {},
   "outputs": [],
   "source": [
    "# training performance comparison\n",
    "\n",
    "def summary(model1, model2, model3, tune = 'without'):\n",
    "    models_train_comp_df = pd.concat(\n",
    "        [\n",
    "            model1, \n",
    "            model2, \n",
    "            model3\n",
    "        ],\n",
    "        axis=1,\n",
    "    )\n",
    "    models_train_comp_df.columns = [\n",
    "        \"Logistic Regression \",\n",
    "        \"Support Vector Classifier\",\n",
    "        \"Random Forest Classifier\",\n",
    "    ]\n",
    "\n",
    "    print(f\"Model performance {tune} hyperparameter tuning\")\n",
    "    return models_train_comp_df"
   ]
  },
  {
   "cell_type": "code",
   "execution_count": 49,
   "id": "d93451d3",
   "metadata": {},
   "outputs": [
    {
     "name": "stdout",
     "output_type": "stream",
     "text": [
      "Model performance without hyperparameter tuning\n"
     ]
    },
    {
     "data": {
      "text/html": [
       "<div>\n",
       "<style scoped>\n",
       "    .dataframe tbody tr th:only-of-type {\n",
       "        vertical-align: middle;\n",
       "    }\n",
       "\n",
       "    .dataframe tbody tr th {\n",
       "        vertical-align: top;\n",
       "    }\n",
       "\n",
       "    .dataframe thead th {\n",
       "        text-align: right;\n",
       "    }\n",
       "</style>\n",
       "<table border=\"1\" class=\"dataframe\">\n",
       "  <thead>\n",
       "    <tr style=\"text-align: right;\">\n",
       "      <th></th>\n",
       "      <th>Logistic Regression</th>\n",
       "      <th>Support Vector Classifier</th>\n",
       "      <th>Random Forest Classifier</th>\n",
       "    </tr>\n",
       "  </thead>\n",
       "  <tbody>\n",
       "    <tr>\n",
       "      <th>Accuracy</th>\n",
       "      <td>0.904073</td>\n",
       "      <td>0.904073</td>\n",
       "      <td>0.909715</td>\n",
       "    </tr>\n",
       "    <tr>\n",
       "      <th>Recall</th>\n",
       "      <td>0.368192</td>\n",
       "      <td>0.296296</td>\n",
       "      <td>0.457516</td>\n",
       "    </tr>\n",
       "    <tr>\n",
       "      <th>Precision</th>\n",
       "      <td>0.625926</td>\n",
       "      <td>0.666667</td>\n",
       "      <td>0.638298</td>\n",
       "    </tr>\n",
       "    <tr>\n",
       "      <th>F1</th>\n",
       "      <td>0.463649</td>\n",
       "      <td>0.410256</td>\n",
       "      <td>0.532995</td>\n",
       "    </tr>\n",
       "  </tbody>\n",
       "</table>\n",
       "</div>"
      ],
      "text/plain": [
       "           Logistic Regression   Support Vector Classifier  \\\n",
       "Accuracy               0.904073                   0.904073   \n",
       "Recall                 0.368192                   0.296296   \n",
       "Precision              0.625926                   0.666667   \n",
       "F1                     0.463649                   0.410256   \n",
       "\n",
       "           Random Forest Classifier  \n",
       "Accuracy                   0.909715  \n",
       "Recall                     0.457516  \n",
       "Precision                  0.638298  \n",
       "F1                         0.532995  "
      ]
     },
     "execution_count": 49,
     "metadata": {},
     "output_type": "execute_result"
    }
   ],
   "source": [
    "summary(lr_result_test, svc_result_test, rf_result_test)"
   ]
  },
  {
   "cell_type": "code",
   "execution_count": 50,
   "id": "aefee706",
   "metadata": {},
   "outputs": [
    {
     "name": "stdout",
     "output_type": "stream",
     "text": [
      "Model performance with hyperparameter tuning\n"
     ]
    },
    {
     "data": {
      "text/html": [
       "<div>\n",
       "<style scoped>\n",
       "    .dataframe tbody tr th:only-of-type {\n",
       "        vertical-align: middle;\n",
       "    }\n",
       "\n",
       "    .dataframe tbody tr th {\n",
       "        vertical-align: top;\n",
       "    }\n",
       "\n",
       "    .dataframe thead th {\n",
       "        text-align: right;\n",
       "    }\n",
       "</style>\n",
       "<table border=\"1\" class=\"dataframe\">\n",
       "  <thead>\n",
       "    <tr style=\"text-align: right;\">\n",
       "      <th></th>\n",
       "      <th>Logistic Regression</th>\n",
       "      <th>Support Vector Classifier</th>\n",
       "      <th>Random Forest Classifier</th>\n",
       "    </tr>\n",
       "  </thead>\n",
       "  <tbody>\n",
       "    <tr>\n",
       "      <th>Accuracy</th>\n",
       "      <td>0.830716</td>\n",
       "      <td>0.890211</td>\n",
       "      <td>0.910206</td>\n",
       "    </tr>\n",
       "    <tr>\n",
       "      <th>Recall</th>\n",
       "      <td>0.888889</td>\n",
       "      <td>0.435730</td>\n",
       "      <td>0.472767</td>\n",
       "    </tr>\n",
       "    <tr>\n",
       "      <th>Precision</th>\n",
       "      <td>0.389685</td>\n",
       "      <td>0.514801</td>\n",
       "      <td>0.636364</td>\n",
       "    </tr>\n",
       "    <tr>\n",
       "      <th>F1</th>\n",
       "      <td>0.541833</td>\n",
       "      <td>0.471976</td>\n",
       "      <td>0.542500</td>\n",
       "    </tr>\n",
       "  </tbody>\n",
       "</table>\n",
       "</div>"
      ],
      "text/plain": [
       "           Logistic Regression   Support Vector Classifier  \\\n",
       "Accuracy               0.830716                   0.890211   \n",
       "Recall                 0.888889                   0.435730   \n",
       "Precision              0.389685                   0.514801   \n",
       "F1                     0.541833                   0.471976   \n",
       "\n",
       "           Random Forest Classifier  \n",
       "Accuracy                   0.910206  \n",
       "Recall                     0.472767  \n",
       "Precision                  0.636364  \n",
       "F1                         0.542500  "
      ]
     },
     "execution_count": 50,
     "metadata": {},
     "output_type": "execute_result"
    }
   ],
   "source": [
    "summary(lr_result_hyp, svc_result_hyp, rf_result_hyp, tune = 'with')"
   ]
  },
  {
   "cell_type": "markdown",
   "id": "e2591379",
   "metadata": {},
   "source": [
    "# Conclusion"
   ]
  },
  {
   "cell_type": "markdown",
   "id": "84b1dd59",
   "metadata": {},
   "source": [
    "- **Without Hyperparameter Tuning**\n",
    "    - The best recall score of `0.457` is given by `Random Forest Classifier` with an f1-score of **0.532**\n",
    "    - The best accuracy score of `90.97%` is given by `Random Forest Classifier`\n",
    "    - The models does not perform well on the test set in terms of recall. The accuracy on the other hand is significant.\n",
    "\n",
    "\n",
    "- **With Hyperparameter Tuning**\n",
    "    - The best recall score of `0.888` is given by `Logistic Regression` with a balanced F1-score of **0.541**\n",
    "    - The best accuracy score of `91.02%` is given by `Random Forest Classifier`\n",
    "    - The models perform better in terms of recall and have maintained the F1-score and overall accuracy.\n",
    "\n",
    "\n",
    "- **`Logisitic Regression`** model with hyperparameter tuning is able to give a balanced **`F1-score of 0.541`** and a decent **`accuracy of 83.07%`**. This model outperforms all the other models in terms of reducing the FN cases and increase the Recall to **`0.888`**\n",
    "- The Logisitic Regression model is tuned with a threshold value of **0.1**.\n",
    "- We can choose a threshold value of **0.3** for a generalised model with a better F1-score that reduces both FN and FP\n",
    "- **Hence this model can be used in practice and is a good model**"
   ]
  },
  {
   "cell_type": "code",
   "execution_count": null,
   "id": "97c39a00-3484-4f13-bf73-375c05cc18df",
   "metadata": {},
   "outputs": [],
   "source": []
  }
 ],
 "metadata": {
  "kernelspec": {
   "display_name": "Python 3 (ipykernel)",
   "language": "python",
   "name": "python3"
  },
  "language_info": {
   "codemirror_mode": {
    "name": "ipython",
    "version": 3
   },
   "file_extension": ".py",
   "mimetype": "text/x-python",
   "name": "python",
   "nbconvert_exporter": "python",
   "pygments_lexer": "ipython3",
   "version": "3.9.7"
  }
 },
 "nbformat": 4,
 "nbformat_minor": 5
}
